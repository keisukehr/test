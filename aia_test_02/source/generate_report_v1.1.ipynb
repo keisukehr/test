{
 "cells": [
  {
   "cell_type": "code",
   "execution_count": 10,
   "metadata": {},
   "outputs": [],
   "source": [
    "### 1. 諸設定\n",
    "\n",
    "import pandas as pd\n",
    "import datetime as dt\n",
    "\n",
    "def __get_file_name(feature_name, graph_type):\n",
    "    if graph_type == 'partial_dependence':\n",
    "        return '../output/intermediate_files/partial_dependence_{}.png'.format(feature_name)\n",
    "    elif graph_type == 'histgram':\n",
    "        return '../output/intermediate_files/partial_dependence_hist_{}.png'.format(feature_name)\n",
    "    else:\n",
    "        return \n",
    "\n",
    "with open('../input/report_template.md', encoding='utf-8') as f:\n",
    "    report = f.read()\n",
    "\n",
    "dict_log_input = pd.read_pickle(\"../output/intermediate_files/input_info.pkl\")\n",
    "dict_log_project = pd.read_pickle('../output/intermediate_files/project_info.pkl')\n",
    "df_log_model = pd.read_csv('../output/intermediate_files/model_info.csv')\n",
    "commonly_important_features = pd.read_pickle(\"../output/intermediate_files/commonly_important_features.pkl\")[0]"
   ]
  },
  {
   "cell_type": "code",
   "execution_count": 11,
   "metadata": {},
   "outputs": [],
   "source": [
    "### 2. 結果をレポートテンプレートに代入\n",
    "\n",
    "report = report.replace(\n",
    "    '{STR_IMPORTANT_FEATURES}', \n",
    "    ' **{features}** '.format(features=', '.join(commonly_important_features))\n",
    ").replace(\n",
    "    '{BEST_MODEL_NAME}', \n",
    "    df_log_model.loc[df_log_model['model_rank'] == 1, 'model_name'].values[0]\n",
    ").replace(\n",
    "    '{BEST_MODEL_AUC_SCORE}', \n",
    "    df_log_model.loc[df_log_model['model_rank'] == 1, 'cv_score'].round(3).astype(str).values[0]\n",
    ").replace(\n",
    "    '{BEST_MODEL_PRECISION}', \n",
    "    df_log_model.loc[df_log_model['model_rank'] == 1, 'precision'].round(3).astype(str).values[0]\n",
    ").replace(\n",
    "    '{IMAGE_PATH_FEATURE_IMPACTS}', \n",
    "    df_log_model.loc[df_log_model['model_rank'] == 1, 'image_path_impact'].values[0]\n",
    ").replace(\n",
    "    '{IMAGE_PATH_WORD_CLOUD}', \n",
    "    '../output/intermediate_files/word_cloud.png'\n",
    ").replace(\n",
    "    '{STR_PARTIAL_DEPENDENCES}', \n",
    "    '\\n'.join(['##### {feature}\\n\\n![{feature}]({image_path})'.format(\n",
    "        feature=f, image_path=__get_file_name(f, 'partial_dependence')) for f in commonly_important_features]) + '\\n'\n",
    ").replace(\n",
    "    '{INPUT_FILE_PATH}', \n",
    "    dict_log_input['input_file_path']\n",
    ").replace(\n",
    "    '{N_RECORDS}', \n",
    "    str(dict_log_input['n_records'])\n",
    ").replace(\n",
    "    '{DATE_DATA_BEGIN}', \n",
    "    ''\n",
    ").replace(\n",
    "    '{DATE_DATA_END}', \n",
    "    ''\n",
    ").replace(\n",
    "    '{TARGET_RATE}', \n",
    "    str(dict_log_input['rate_target']*100)\n",
    ").replace(\n",
    "    '{DR_PROJECT_ID}',\n",
    "    str(dict_log_project['project_id'][0])\n",
    ").replace(\n",
    "    '{DR_PROJECT_NAME}',\n",
    "    dict_log_project['project_name'][0]\n",
    ")"
   ]
  },
  {
   "cell_type": "code",
   "execution_count": 12,
   "metadata": {},
   "outputs": [],
   "source": [
    "### 3. 書き出し\n",
    "\n",
    "with open('../output/{}_report.md'.format(str(dt.date.today()).replace('-', '')), mode='w', encoding='utf-8') as f:\n",
    "    f.write(report)"
   ]
  },
  {
   "cell_type": "code",
   "execution_count": null,
   "metadata": {},
   "outputs": [],
   "source": []
  }
 ],
 "metadata": {
  "kernelspec": {
   "display_name": "Python 3",
   "language": "python",
   "name": "python3"
  },
  "language_info": {
   "codemirror_mode": {
    "name": "ipython",
    "version": 3
   },
   "file_extension": ".py",
   "mimetype": "text/x-python",
   "name": "python",
   "nbconvert_exporter": "python",
   "pygments_lexer": "ipython3",
   "version": "3.8.3"
  }
 },
 "nbformat": 4,
 "nbformat_minor": 4
}
